{
  "nbformat": 4,
  "nbformat_minor": 0,
  "metadata": {
    "colab": {
      "provenance": [],
      "authorship_tag": "ABX9TyPV08vJ5BsjuBZ/PpAiIgIZ"
    },
    "kernelspec": {
      "name": "python3",
      "display_name": "Python 3"
    },
    "language_info": {
      "name": "python"
    }
  },
  "cells": [
    {
      "cell_type": "code",
      "execution_count": null,
      "metadata": {
        "colab": {
          "base_uri": "https://localhost:8080/"
        },
        "id": "-AVhmcsQCbMa",
        "outputId": "0cb79b50-6b12-44c8-cee3-56bdd5ced041"
      },
      "outputs": [
        {
          "output_type": "execute_result",
          "data": {
            "text/plain": [
              "11200.0"
            ]
          },
          "metadata": {},
          "execution_count": 3
        }
      ],
      "source": [
        "#Arithmatic Ops\n",
        "distanceToBalasoreMiles = 7000\n",
        "mileToKm = 1.6\n",
        "totalDistanceToBlr = distanceToBalasoreMiles * mileToKm\n",
        "totalDistanceToBlr\n",
        "print(type(totalDistanceToBlr))"
      ]
    },
    {
      "cell_type": "code",
      "source": [
        "aString = \"python\"\n",
        "anotherString = \"Rocks\"\n",
        "aString+ \" \"+ (3 * anotherString)"
      ],
      "metadata": {
        "colab": {
          "base_uri": "https://localhost:8080/",
          "height": 35
        },
        "id": "NDianiD-DxjY",
        "outputId": "83254ba3-bd82-4046-ef49-8be73df30800"
      },
      "execution_count": null,
      "outputs": [
        {
          "output_type": "execute_result",
          "data": {
            "text/plain": [
              "'python RocksRocksRocks'"
            ],
            "application/vnd.google.colaboratory.intrinsic+json": {
              "type": "string"
            }
          },
          "metadata": {},
          "execution_count": 23
        }
      ]
    },
    {
      "cell_type": "code",
      "source": [
        "#Experimenting with Strings\n",
        "from ast import Str\n",
        "name = \"   sipra \"\n",
        "print(name.lower())\n",
        "print(name.upper())\n",
        "print(len(name))\n",
        "print(name.endswith(\"e\"))\n",
        "print(name.strip())\n",
        "print(name[4])\n",
        "print(name[1:6])"
      ],
      "metadata": {
        "colab": {
          "base_uri": "https://localhost:8080/"
        },
        "id": "q9yJe7TROf-n",
        "outputId": "d7f60801-63f9-40eb-8905-20d7d6ffb1d1"
      },
      "execution_count": null,
      "outputs": [
        {
          "output_type": "stream",
          "name": "stdout",
          "text": [
            "   sipra \n",
            "   SIPRA \n",
            "9\n",
            "False\n",
            "sipra\n",
            "i\n",
            "  sip\n"
          ]
        }
      ]
    },
    {
      "cell_type": "code",
      "source": [
        "#Multiline Strings\n",
        "multilineString = \"This is \\n Multiline String\"\n",
        "print(multilineString)\n",
        "stringOne = \"Python is powerful\"\n",
        "stringTwo = \" and versatile \"\n",
        "anumber = 1\n",
        "print(stringOne , stringTwo ,  str(anumber))"
      ],
      "metadata": {
        "colab": {
          "base_uri": "https://localhost:8080/"
        },
        "id": "q8zfu6EuX4WQ",
        "outputId": "6396a0d6-4ce8-4798-b2b1-b463d1ee502c"
      },
      "execution_count": 49,
      "outputs": [
        {
          "output_type": "stream",
          "name": "stdout",
          "text": [
            "This is \n",
            " Multiline String\n",
            "Python is powerful  and versatile  1\n"
          ]
        }
      ]
    },
    {
      "cell_type": "code",
      "source": [
        "#Tuple Exercise\n",
        "atuple = (1, 2, 3, 4)\n",
        "atuple[0]\n",
        "atupleS = (\"a\", \"b\", 1, 2)\n",
        "atupleS[2]\n",
        "print(atupleS + atuple)\n",
        "atupleMix = atuple+atupleS\n",
        "print(atupleMix[3])\n",
        "print(len(atupleMix))\n",
        "print(atupleMix * 3)"
      ],
      "metadata": {
        "colab": {
          "base_uri": "https://localhost:8080/"
        },
        "id": "7qg5N6qZTBlJ",
        "outputId": "72ba93ee-5068-4bcf-96bd-f044b9b397ea"
      },
      "execution_count": 50,
      "outputs": [
        {
          "output_type": "stream",
          "name": "stdout",
          "text": [
            "('a', 'b', 1, 2, 1, 2, 3, 4)\n",
            "4\n",
            "8\n",
            "(1, 2, 3, 4, 'a', 'b', 1, 2, 1, 2, 3, 4, 'a', 'b', 1, 2, 1, 2, 3, 4, 'a', 'b', 1, 2)\n"
          ]
        }
      ]
    },
    {
      "cell_type": "code",
      "source": [
        "#Simplifying conditions\n",
        "x = 43\n",
        "y = 64\n",
        "\n",
        "isXDivisibleby2 = (x % 2) == 0\n",
        "isYDivisibleby3 = (y % 3) == 0\n",
        "\n",
        "isXDivisibleby2 and isYDivisibleby3"
      ],
      "metadata": {
        "colab": {
          "base_uri": "https://localhost:8080/"
        },
        "id": "twBVUulGKraB",
        "outputId": "d476d46c-25e7-4b78-cce7-227828e34a0e"
      },
      "execution_count": 51,
      "outputs": [
        {
          "output_type": "execute_result",
          "data": {
            "text/plain": [
              "False"
            ]
          },
          "metadata": {},
          "execution_count": 51
        }
      ]
    },
    {
      "cell_type": "code",
      "source": [
        "#Calculate Earth's diameter\n",
        "pi = 3.14159\n",
        "d = 12756\n",
        "c = pi * d\n",
        "print(\"Earth's diameter as equator : \"+ str(c))\n",
        "print(\"Earth's diameter as equator\",  c)"
      ],
      "metadata": {
        "colab": {
          "base_uri": "https://localhost:8080/"
        },
        "id": "I4MiqfMja-Tr",
        "outputId": "75b3cfca-6377-4bcb-96b6-a243d922964c"
      },
      "execution_count": 55,
      "outputs": [
        {
          "output_type": "stream",
          "name": "stdout",
          "text": [
            "Earth's diameter as equator : 40074.12204\n",
            "Earth's diameter as equator 3.14159 12756 40074.12204\n"
          ]
        }
      ]
    }
  ]
}