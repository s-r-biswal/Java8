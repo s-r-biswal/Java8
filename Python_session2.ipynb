{
  "nbformat": 4,
  "nbformat_minor": 0,
  "metadata": {
    "colab": {
      "provenance": [],
      "authorship_tag": "ABX9TyObpEGxfN1SrTUI5mpd9NZH"
    },
    "kernelspec": {
      "name": "python3",
      "display_name": "Python 3"
    },
    "language_info": {
      "name": "python"
    }
  },
  "cells": [
    {
      "cell_type": "code",
      "execution_count": 1,
      "metadata": {
        "colab": {
          "base_uri": "https://localhost:8080/"
        },
        "id": "wwnF7N2b6uEJ",
        "outputId": "7de4a9a2-9bb5-4530-f5ba-cc563e059442"
      },
      "outputs": [
        {
          "name": "stdout",
          "output_type": "stream",
          "text": [
            "What is your name ?Sipra\n"
          ]
        }
      ],
      "source": [
        " name = input('What is your name ?')"
      ]
    },
    {
      "cell_type": "code",
      "source": [
        "print(name)\n",
        "print(type(name))"
      ],
      "metadata": {
        "colab": {
          "base_uri": "https://localhost:8080/"
        },
        "id": "Z0mOMBRe_l2Y",
        "outputId": "10869d85-2204-40c6-8a05-bf0da0ee8d6e"
      },
      "execution_count": 2,
      "outputs": [
        {
          "output_type": "stream",
          "name": "stdout",
          "text": [
            "Sipra\n",
            "<class 'str'>\n"
          ]
        }
      ]
    },
    {
      "cell_type": "code",
      "source": [
        "age = input('What is your age ?')"
      ],
      "metadata": {
        "colab": {
          "base_uri": "https://localhost:8080/"
        },
        "id": "7xnrrgSz_r7t",
        "outputId": "631a1f01-fef5-4e5b-e1b8-aeaec5c0dcaa"
      },
      "execution_count": 3,
      "outputs": [
        {
          "name": "stdout",
          "output_type": "stream",
          "text": [
            "What is your age ?31\n"
          ]
        }
      ]
    },
    {
      "cell_type": "code",
      "source": [
        "print(age)\n",
        "print(type(age))"
      ],
      "metadata": {
        "colab": {
          "base_uri": "https://localhost:8080/"
        },
        "id": "gRLQk-BJ_2xz",
        "outputId": "623eb5e0-5580-4e96-d7bb-23c73a6d8190"
      },
      "execution_count": 4,
      "outputs": [
        {
          "output_type": "stream",
          "name": "stdout",
          "text": [
            "31\n",
            "<class 'str'>\n"
          ]
        }
      ]
    },
    {
      "cell_type": "code",
      "source": [
        "import math\n",
        "print(pow(2,5))\n",
        "print(math.pi)"
      ],
      "metadata": {
        "colab": {
          "base_uri": "https://localhost:8080/"
        },
        "id": "1VPmcgxZ_73N",
        "outputId": "50dd015c-2acf-4299-d0c5-2170a031e0c4"
      },
      "execution_count": 7,
      "outputs": [
        {
          "output_type": "stream",
          "name": "stdout",
          "text": [
            "32\n",
            "3.141592653589793\n"
          ]
        }
      ]
    },
    {
      "cell_type": "code",
      "source": [
        "#Object type\n",
        "print(isinstance(42, int))\n",
        "print(isinstance(str(42), int))\n",
        "print(id(42))\n",
        "number = 314\n",
        "id(number)"
      ],
      "metadata": {
        "colab": {
          "base_uri": "https://localhost:8080/"
        },
        "id": "4XxLxC7xCJqg",
        "outputId": "6ad8cc37-5999-4a57-870d-9662af6eb6bf"
      },
      "execution_count": 15,
      "outputs": [
        {
          "output_type": "stream",
          "name": "stdout",
          "text": [
            "True\n",
            "False\n",
            "10752168\n"
          ]
        },
        {
          "output_type": "execute_result",
          "data": {
            "text/plain": [
              "132331905426576"
            ]
          },
          "metadata": {},
          "execution_count": 15
        }
      ]
    },
    {
      "cell_type": "code",
      "source": [
        "#check Object ref\n",
        "word_counter = letter_couhter = 0\n",
        "print(id(word_counter) == id(letter_couhter))\n",
        "\n",
        "greeting = 'helloH'\n",
        "print(id(greeting[0]), id(greeting[5]))\n",
        "print(id(greeting[0]) == id(greeting[5]))"
      ],
      "metadata": {
        "colab": {
          "base_uri": "https://localhost:8080/"
        },
        "id": "3h0XIXhdEz2w",
        "outputId": "401aef6d-0ceb-4673-ea92-5e2b896ecd2e"
      },
      "execution_count": 20,
      "outputs": [
        {
          "output_type": "stream",
          "name": "stdout",
          "text": [
            "True\n",
            "10797288 10795496\n",
            "False\n"
          ]
        }
      ]
    },
    {
      "cell_type": "code",
      "source": [
        "#Mutability of List - inplace changes possible\n",
        "greetings = ' Hello world'\n",
        "print(id(greeting))\n",
        "\n",
        "fruits = ['applie', 'banana', 'orange']\n",
        "print(type(fruits))\n",
        "print(fruits)\n",
        "print(id(fruits[0]) == id(fruits[2]))\n",
        "fruits[2] = 'apricot'\n",
        "print(fruits)"
      ],
      "metadata": {
        "colab": {
          "base_uri": "https://localhost:8080/"
        },
        "id": "qDbtml0kCP9n",
        "outputId": "178d9c40-ecb8-44a5-9595-a63b95749524"
      },
      "execution_count": 29,
      "outputs": [
        {
          "output_type": "stream",
          "name": "stdout",
          "text": [
            "132331729962544\n",
            "<class 'list'>\n",
            "['applie', 'banana', 'orange']\n",
            "False\n",
            "['applie', 'banana', 'apricot']\n"
          ]
        }
      ]
    },
    {
      "cell_type": "code",
      "source": [
        "#List -sorting\n",
        "cars = ['Ford', 'BMW', 'Volvo']\n",
        "cars.sort()\n",
        "print(cars)\n",
        "#List -appending\n",
        "cars.append('Mahindra')\n",
        "print(cars)\n",
        "#List - range\n",
        "nums = list(range(10))\n",
        "print(nums)\n",
        "nums = list(range(0, 100, 5))\n",
        "print(nums)"
      ],
      "metadata": {
        "colab": {
          "base_uri": "https://localhost:8080/"
        },
        "id": "RfdpPuw5LeBh",
        "outputId": "89a33979-5603-4695-8fd4-9fb851f46ed8"
      },
      "execution_count": 36,
      "outputs": [
        {
          "output_type": "stream",
          "name": "stdout",
          "text": [
            "['BMW', 'Ford', 'Volvo']\n",
            "['BMW', 'Ford', 'Volvo', 'Mahindra']\n",
            "[0, 1, 2, 3, 4, 5, 6, 7, 8, 9]\n",
            "[0, 5, 10, 15, 20, 25, 30, 35, 40, 45, 50, 55, 60, 65, 70, 75, 80, 85, 90, 95]\n"
          ]
        }
      ]
    },
    {
      "cell_type": "code",
      "source": [
        "#slicing\n",
        "numbers = list(range(20, 200, 10))\n",
        "print(numbers)\n",
        "print(numbers[1:3])\n",
        "print(numbers[0:3])\n",
        "print(numbers[4:])\n",
        "print(numbers[-1]) #backwards\n",
        "print(numbers[1:10:3])\n",
        "print(numbers[::-1])"
      ],
      "metadata": {
        "colab": {
          "base_uri": "https://localhost:8080/"
        },
        "id": "FrtqlDI0MldQ",
        "outputId": "0da64e7e-ae94-4d71-f296-d08ee9049188"
      },
      "execution_count": 44,
      "outputs": [
        {
          "output_type": "stream",
          "name": "stdout",
          "text": [
            "[20, 30, 40, 50, 60, 70, 80, 90, 100, 110, 120, 130, 140, 150, 160, 170, 180, 190]\n",
            "[30, 40]\n",
            "[20, 30, 40]\n",
            "[60, 70, 80, 90, 100, 110, 120, 130, 140, 150, 160, 170, 180, 190]\n",
            "190\n",
            "[30, 60, 90]\n",
            "[190, 180, 170, 160, 150, 140, 130, 120, 110, 100, 90, 80, 70, 60, 50, 40, 30, 20]\n"
          ]
        }
      ]
    },
    {
      "cell_type": "code",
      "source": [
        "days = {1:\"Monday\", \"2\":\"Tuesday\", 3:\"Wednesday\"}\n",
        "print(days)\n",
        "print(type(days))\n",
        "print(id(days))\n",
        "\n",
        "print(days.keys())\n",
        "print(days.values())\n",
        "print(days[\"2\"])\n",
        "\n",
        "days[\"2\"] = \"Thursday\"\n",
        "print(days)\n",
        "print(id(days))\n",
        "\n",
        "inventory = {2:5, \"3\": \"Rare\", 3: \"calvin\"}\n",
        "inventory[\"3\"] = \"Rabbit\"\n",
        "print(inventory)\n",
        "\n",
        "inventory = inventory | {3 : \"Klein\"}\n",
        "print(len(inventory))"
      ],
      "metadata": {
        "colab": {
          "base_uri": "https://localhost:8080/"
        },
        "id": "QxJpUYKqOkFk",
        "outputId": "698dd048-1ce0-47f8-d4f5-7ac82750b5a4"
      },
      "execution_count": 56,
      "outputs": [
        {
          "output_type": "stream",
          "name": "stdout",
          "text": [
            "{1: 'Monday', '2': 'Tuesday', 3: 'Wednesday'}\n",
            "<class 'dict'>\n",
            "132331719210048\n",
            "dict_keys([1, '2', 3])\n",
            "dict_values(['Monday', 'Tuesday', 'Wednesday'])\n",
            "Tuesday\n",
            "{1: 'Monday', '2': 'Thursday', 3: 'Wednesday'}\n",
            "132331719210048\n",
            "{2: 5, '3': 'Rabbit', 3: 'calvin'}\n",
            "3\n",
            "{'brand': 'Ford', 'electric': False, 'year': 1964, 'colors': ['red', 'white', 'blue']}\n"
          ]
        }
      ]
    },
    {
      "cell_type": "code",
      "source": [
        "\n",
        "dictlist = {\n",
        "  \"brand\": \"Ford\",\n",
        "  \"car\": \"Ford\",\n",
        "  \"electric\": False,\n",
        "  \"year\": 1964,\n",
        "  \"colors\": [\"red\", \"white\", \"blue\"]\n",
        "}\n",
        "\n",
        "print(dictlist)\n",
        "\n",
        "print(id(dictlist))"
      ],
      "metadata": {
        "colab": {
          "base_uri": "https://localhost:8080/"
        },
        "id": "6wI0q2rHXqU6",
        "outputId": "143fbc32-78da-4dd1-c61a-7992a7c6a4e3"
      },
      "execution_count": 61,
      "outputs": [
        {
          "output_type": "stream",
          "name": "stdout",
          "text": [
            "{'brand': 'Ford', 'car': 'Ford', 'electric': False, 'year': 1964, 'colors': ['red', 'white', 'blue']}\n",
            "132331906180992\n"
          ]
        }
      ]
    }
  ]
}